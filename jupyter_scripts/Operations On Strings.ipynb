{
 "cells": [
  {
   "cell_type": "markdown",
   "metadata": {},
   "source": [
    "# Comparing Strings\n",
    "\n",
    "There are many ways in which one may compare two or more strings. Typical goals of such comparisions are to indicate how similar (or dissimilar) two strings are. This is typically done by defining a **metric** (or **distance**) between two words. \n",
    "\n",
    "In this notebook we consider several ways to compare strings. These are well-known distances such as the **Hamming** distance, **longest common subsequence**, among others. "
   ]
  },
  {
   "cell_type": "markdown",
   "metadata": {},
   "source": [
    "## Longest Common Subsequence (LCS)\n",
    "\n",
    "The **Longest Common Subsequence (LCS)** problem askes to determine the longest subsequence of two strings A and B.\n",
    "That is, over all subsequence of characters for A and B, what is the longest such subsequence shared between the two strings. \n",
    "Note that characters need not be consequitve (i.e. need not be a substring of characters) only that one appears before the other in both strings. \n",
    "\n",
    "We can define the length of the LCS of A and B recursively. Suppose A and B have lengths a and b respectively. Then either the last characters of both strings are equal, or they are note. \n",
    "\n",
    "If $A[a] == B[b]$ then this character will belong to the LCS. We then \"prune\" these characters and ask what is the LCS of $A[1:a-1]$ and $B[1:b-1]$.\n",
    "\n",
    "Otherwise this character will not belong the LCS. Thus we can consider prunning both characters (one at a time) and consider the LCS of thw two subproblems. As we want the longest common subsequence, we maximize over the lengths of the resulting LCS for the subproblems. \n",
    "\n",
    "The base case for this problem is when either string is empty; trivially the length of the LCS is 0. For $a,b > 0$ our recurrence relationship is:\n",
    "\n",
    "$$\n",
    "\\begin{align}\n",
    "LCS(A[1:i],B[1:j]) &=\n",
    "\\begin{cases}\n",
    "0 &\\text{if $i==0$ or $j==0$} \\\\\n",
    "1 + LCS(A[1:i-1],B[1:j-1]) &\\text{if $A[i]==B[j], i,j>0$} \\\\\n",
    "\\max \\{ LCS(A[1:i], B[1:j-1]), LCS(A[1:i-1], B[1:j])\\} &\\text{otherwise}\n",
    "\\end{cases}\n",
    "\\end{align}\n",
    "$$"
   ]
  },
  {
   "cell_type": "code",
   "execution_count": 2,
   "metadata": {},
   "outputs": [],
   "source": [
    "class LCS_Entry:\n",
    "#     __slots__ = ('value', 'lcs', 'is_null',)\n",
    "    def __init__ (self):\n",
    "        self.value = -1\n",
    "        self.lcs = \"\"\n",
    "        \n",
    "    def __str__(self):\n",
    "        return str(self.value) + ':' + self.lcs\n",
    "    \n",
    "    def __repr__(self):\n",
    "        return self.__str__()\n",
    "    "
   ]
  },
  {
   "cell_type": "code",
   "execution_count": 3,
   "metadata": {},
   "outputs": [],
   "source": [
    "# Below is a top-down (memoized) and bottom-up (DP)  implementation of the LCS recurrence relationship.\n",
    "\n",
    "def LCS_TD(i,j, A, B):\n",
    "\n",
    "    # Need to set value.\n",
    "    if dp[i][j].value == -1:\n",
    "        \n",
    "        # Base cases\n",
    "        if i == 0 or j == 0:\n",
    "            dp[i][j].value = 0\n",
    "            dp[i][j].lcs = \"\"\n",
    "            return dp[i][j]\n",
    "        \n",
    "        # Non base cases\n",
    "        # Characters match, add to LCS\n",
    "        if A[i-1] == B[j-1]:\n",
    "            result = LCS_TD(i-1, j-1, A, B)\n",
    "            dp[i][j].value = 1 + result.value\n",
    "            dp[i][j].lcs = str(result.lcs) + A[i-1]\n",
    "            \n",
    "        # Prune each ending character, see which results in lcs.\n",
    "        else:\n",
    "            result_1 = LCS_TD(i-1, j, A, B)\n",
    "            result_2 = LCS_TD(i, j-1, A, B)\n",
    "            if result_1.value >= result_2.value:\n",
    "                result = result_1\n",
    "            else:\n",
    "                result = result_2\n",
    "            dp[i][j].value = result.value\n",
    "            dp[i][j].lcs = str(result.lcs)\n",
    "            \n",
    "    return dp[i][j]\n",
    "\n",
    "\n",
    "def LCS_BU(A, B):\n",
    "    \n",
    "    # Base cases\n",
    "    for i in range(len(A)+1):\n",
    "        dp[i][0].value = 0\n",
    "        dp[i][0].lcs = \"\"\n",
    "    \n",
    "    for j in range(len(B)+1):\n",
    "        dp[0][j].value = 0\n",
    "        dp[0][j].lcs = \"\"\n",
    "    \n",
    "    # Non base cases\n",
    "    for i in range(1,len(A)+1):\n",
    "        for j in range(1,len(B)+1):\n",
    "            if A[i-1] == B[j-1]:\n",
    "                dp[i][j].value = 1 + dp[i-1][j-1].value\n",
    "                dp[i][j].lcs =  str(dp[i-1][j-1].lcs) + A[i-1]\n",
    "            \n",
    "            else:\n",
    "                result_1 = dp[i-1][j]\n",
    "                result_2 = dp[i][j-1]\n",
    "                result = None\n",
    "                if result_1.value >= result_2.value:\n",
    "                    result = result_1\n",
    "                else:\n",
    "                    result = result_2\n",
    "                \n",
    "                dp[i][j].value = result.value\n",
    "                dp[i][j].lcs = str(result.lcs)\n",
    "    \n",
    "    return dp[len(A)][len(B)]"
   ]
  },
  {
   "cell_type": "code",
   "execution_count": 4,
   "metadata": {},
   "outputs": [
    {
     "name": "stdout",
     "output_type": "stream",
     "text": [
      "4:suen\n",
      "4:suen\n"
     ]
    }
   ],
   "source": [
    "\n",
    "# Examples LCS\n",
    "A = \"subsequence\"\n",
    "B = \"supercan\"\n",
    "\n",
    "a = len(A)\n",
    "b = len(B)\n",
    "\n",
    "# Create dp matrix \n",
    "dp = [[LCS_Entry() for j in range(b+1)] for i in range(a+1)]\n",
    "\n",
    "result = LCS_TD(a, b, A, B)\n",
    "print(result)\n",
    "\n",
    "result = LCS_BU(A, B)\n",
    "print(result)"
   ]
  },
  {
   "cell_type": "markdown",
   "metadata": {},
   "source": [
    "## Minimum LCS Distance\n",
    "\n",
    "The **minimum LCS (min LCS) distance** between two strings A and B is the minimum number of insertion and deletion operations to conver string A to string B. The naming of such a distance comes from its relationship with the LCS of A and B. \n",
    "\n",
    "Indeed if A and B have length a and b respectively, then an upper bound on the min LCS distance is $a+b$; remove all a characters from A then insert b characters of B. However any subsequence of characters that is common to each string need not be removed. Thus when counting the number of removal and insertion operations, for each character that is common between the two need not be removed. Thus we have\n",
    "\n",
    "$$ \n",
    "min LCS distance = a + b - 2LCS(A,B)\n",
    "$$"
   ]
  },
  {
   "cell_type": "markdown",
   "metadata": {},
   "source": [
    "# Levenshtein Distance\n",
    "\n",
    " The **Levenshtein distance (LEV)** of two strings A and B is the minimum number of operations to convert A to B, where the operations allowed are the insertion, deletion, or substitution of a single character.\n",
    " \n",
    "If the lengths of the string are $a$ and $b$, we can observe the following about the lev distance of A and B.  \n",
    "1) lev(A,B) = 0 if and only if the A=B.  \n",
    "2) lev(A,B) is at most $\\max\\{ a,b \\}$, as we can preform the substitution, then addition to match the longer string.  \n",
    "3) lev(A,B) is at least $|a-b|$, as we would need at least this many insertion operations to fill the \"gap\" between the two. "
   ]
  },
  {
   "cell_type": "markdown",
   "metadata": {},
   "source": [
    "We can define the Levelshtein distance using a recursive relationship where we consider the three possible operations, their results, and minimize over the two. For our bases cases (if one string is empty) we require the length of the other string operations to match the two. Thus we have\n",
    "\n",
    "\n",
    "$$\n",
    "\\begin{align}\n",
    "LEV(A[1:i],B[1:j]) &=\n",
    "\\begin{cases}\n",
    "\\max\\{ i,j \\} &\\text{if $i==0$ or $j==0$} \\\\\n",
    "\\min\n",
    "\\begin{cases}\n",
    "LEV(A[1:i], B[1:j-1]) + 1, \\\\\n",
    "LEV(A[1:i-1], B[1:j]) + 1, \\\\\n",
    "LEV(A[1:i-1], B[1:j-1]) + \\unicode{x1D7D9}_{A[i]\\neq B[j]}\n",
    "\\end{cases}\n",
    "&\\text{otherwise}\n",
    "\\end{cases}\n",
    "\\end{align}\n",
    "$$\n",
    "\n",
    "where (by converting A to B) the entries of the min operator correspond to insertion, deletion, and either a substituion (if $A[i] \\neq B[j]$) or no operation being taken."
   ]
  },
  {
   "cell_type": "code",
   "execution_count": 74,
   "metadata": {},
   "outputs": [],
   "source": [
    "class LEV_Entry:\n",
    "    \n",
    "    def __init__ (self):\n",
    "        self.value = -1\n",
    "        self.operations = list()\n",
    "        \n",
    "    def __str__(self):\n",
    "        return str(self.value) + ':' + str(self.operations)\n",
    "    \n",
    "    def __repr__(self):\n",
    "        return self.__str__()"
   ]
  },
  {
   "cell_type": "code",
   "execution_count": 103,
   "metadata": {},
   "outputs": [],
   "source": [
    "def LEV_BU(A, B):\n",
    "    \n",
    "    # Base cases\n",
    "    for i in range(1, len(A)+1):\n",
    "        dp[i][0].value = i\n",
    "        dp[i][0].operations.append(''.join(dp[i-1][0].operations) + ' del ' + A[i-1] + \" \")\n",
    "    \n",
    "    for j in range(1, len(B)+1):\n",
    "        dp[0][j].value = j\n",
    "        dp[0][j].operations.append(''.join(dp[0][j-1].operations) + ' ins ' + B[j-1] + \" \")\n",
    "        \n",
    "    # Non base cases\n",
    "    for i in range(1,len(A)+1):\n",
    "        for j in range(1,len(B)+1):\n",
    "            \n",
    "            # Keep charcter, no action.\n",
    "            if A[i-1] == B[j-1]:\n",
    "                result_sub = dp[i-1][j-1].value\n",
    "                action = \" keep \" + A[i-1]\n",
    "            else:\n",
    "                result_sub = 1 + dp[i-1][j-1].value\n",
    "                action = \" sub \" + A[i-1] + \" for \" + B[j-1]\n",
    "            \n",
    "            result_insert = 1 + dp[i][j-1].value\n",
    "            result_delete = 1 + dp[i-1][j].value\n",
    "            \n",
    "            if result_sub <= result_insert and result_sub <= result_delete:\n",
    "                dp[i][j].value = result_sub\n",
    "                dp[i][j].operations.append(''.join(dp[i-1][j-1].operations) + action +\" \")\n",
    "            elif result_insert <= result_sub and result_insert <= result_delete:\n",
    "                dp[i][j].value = result_insert\n",
    "                dp[i][j].operations.append(''.join(dp[i][j-1].operations) + \" ins \" + str(B[j-1]) + \" \") \n",
    "            elif result_delete <= result_sub and result_delete <= result_insert:\n",
    "                dp[i][j].value = result_delete\n",
    "                dp[i][j].operations.append(''.join(dp[i-1][j].operations) + \" del \" + str(A[i-1]) + \" \") \n",
    "            \n",
    "    \n",
    "    return dp[len(A)][len(B)]"
   ]
  },
  {
   "cell_type": "code",
   "execution_count": 104,
   "metadata": {},
   "outputs": [
    {
     "name": "stdout",
     "output_type": "stream",
     "text": [
      "6:[' del w  del e  del d  keep n  keep e  keep s  del d  del a  sub y for t ']\n",
      "[[-1:[], 1:[' ins n '], 2:[' ins n  ins e '], 3:[' ins n  ins e  ins s '], 4:[' ins n  ins e  ins s  ins t ']], [1:[' del w '], 0:[' sub w for n '], 1:[' sub w for n  ins e '], 2:[' sub w for n  ins e  ins s '], 3:[' sub w for n  ins e  ins s  ins t ']], [2:[' del w  del e '], 1:[' sub w for n  del e '], 0:[' sub w for n  keep e '], 1:[' sub w for n  keep e  ins s '], 2:[' sub w for n  keep e  ins s  ins t ']], [3:[' del w  del e  del d '], 2:[' sub w for n  del e  del d '], 1:[' sub w for n  keep e  del d '], 1:[' sub w for n  keep e  sub d for s '], 2:[' sub w for n  keep e  ins s  sub d for t ']], [4:[' del w  del e  del d  del n '], 3:[' del w  del e  del d  keep n '], 2:[' sub w for n  keep e  del d  del n '], 2:[' sub w for n  keep e  del d  sub n for s '], 2:[' sub w for n  keep e  sub d for s  sub n for t ']], [5:[' del w  del e  del d  del n  del e '], 4:[' del w  del e  del d  keep n  del e '], 3:[' del w  del e  del d  keep n  keep e '], 3:[' sub w for n  keep e  del d  del n  sub e for s '], 3:[' sub w for n  keep e  del d  sub n for s  sub e for t ']], [6:[' del w  del e  del d  del n  del e  del s '], 5:[' del w  del e  del d  keep n  del e  del s '], 4:[' del w  del e  del d  keep n  keep e  del s '], 3:[' del w  del e  del d  keep n  keep e  keep s '], 4:[' sub w for n  keep e  del d  del n  sub e for s  sub s for t ']], [7:[' del w  del e  del d  del n  del e  del s  del d '], 6:[' del w  del e  del d  keep n  del e  del s  del d '], 5:[' del w  del e  del d  keep n  keep e  del s  del d '], 4:[' del w  del e  del d  keep n  keep e  keep s  del d '], 4:[' del w  del e  del d  keep n  keep e  keep s  sub d for t ']], [8:[' del w  del e  del d  del n  del e  del s  del d  del a '], 7:[' del w  del e  del d  keep n  del e  del s  del d  del a '], 6:[' del w  del e  del d  keep n  keep e  del s  del d  del a '], 5:[' del w  del e  del d  keep n  keep e  keep s  del d  del a '], 5:[' del w  del e  del d  keep n  keep e  keep s  del d  sub a for t ']], [9:[' del w  del e  del d  del n  del e  del s  del d  del a  del y '], 8:[' del w  del e  del d  keep n  del e  del s  del d  del a  del y '], 7:[' del w  del e  del d  keep n  keep e  del s  del d  del a  del y '], 6:[' del w  del e  del d  keep n  keep e  keep s  del d  del a  del y '], 6:[' del w  del e  del d  keep n  keep e  keep s  del d  del a  sub y for t ']]]\n"
     ]
    }
   ],
   "source": [
    "\n",
    "# Examples LCS\n",
    "A = \"wednesday\"\n",
    "B = \"nest\"\n",
    "\n",
    "a = len(A)\n",
    "b = len(B)\n",
    "\n",
    "# Create dp matrix \n",
    "dp = [[LEV_Entry() for j in range(b+1)] for i in range(a+1)]\n",
    "\n",
    "result = LEV_BU(A, B)\n",
    "\n",
    "print(result)\n",
    "print(dp)\n"
   ]
  },
  {
   "cell_type": "markdown",
   "metadata": {},
   "source": [
    "# Probability of Subsequence\n",
    "\n",
    "Let $S$ be a string of length $n$, and $k$ a positive integer (subsequence size). We wish to count at all $n-k+1$ positions the subsequence can overlap $S$ and count the number of times such a subsequence appears. We then convert these counts to probabilities by normalizing over $n-k-1$. "
   ]
  },
  {
   "cell_type": "code",
   "execution_count": 34,
   "metadata": {},
   "outputs": [
    {
     "name": "stdout",
     "output_type": "stream",
     "text": [
      "[('abb', 0.22727272727272727), ('bba', 0.22727272727272727), ('bbb', 0.22727272727272727), ('bab', 0.18181818181818182), ('aab', 0.045454545454545456), ('baa', 0.045454545454545456), ('aaa', 0.045454545454545456)]\n"
     ]
    }
   ],
   "source": [
    "S = \"aabbabbbabbbabbbabbbbaaa\"\n",
    "n = len(S)\n",
    "k = 3    # Window size\n",
    "\n",
    "d = dict() # store counts of substrings in dictionary. \n",
    "\n",
    "# Count subsequences\n",
    "for i in range(n-k+1):\n",
    "    subseq = S[i:i+k]\n",
    "    \n",
    "    if subseq in d:\n",
    "        d[subseq] = d.get(subseq) + 1\n",
    "    else:\n",
    "        d[subseq] = 1\n",
    "\n",
    "# normalize    \n",
    "for e in d.items():\n",
    "    d[e[0]] = e[1] / (n-k+1)\n",
    "    \n",
    "# Print sorted by decreasing order of probability. \n",
    "print(sorted(d.items(), key=lambda count: count[1], reverse=True))\n",
    "    "
   ]
  },
  {
   "cell_type": "code",
   "execution_count": null,
   "metadata": {},
   "outputs": [],
   "source": []
  }
 ],
 "metadata": {
  "kernelspec": {
   "display_name": "Python 3",
   "language": "python",
   "name": "python3"
  },
  "language_info": {
   "codemirror_mode": {
    "name": "ipython",
    "version": 3
   },
   "file_extension": ".py",
   "mimetype": "text/x-python",
   "name": "python",
   "nbconvert_exporter": "python",
   "pygments_lexer": "ipython3",
   "version": "3.7.7"
  }
 },
 "nbformat": 4,
 "nbformat_minor": 4
}
