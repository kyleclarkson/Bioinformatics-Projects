{
 "cells": [
  {
   "cell_type": "markdown",
   "metadata": {},
   "source": [
    "# Comparing Strings\n",
    "\n",
    "There are many ways in which one may compare two or more strings. Typical goals of such comparisions are to indicate how similar (or dissimilar) two strings are. This is typically done by defining a **metric** (or **distance**) between two words. \n",
    "\n",
    "In this notebook we consider several ways to compare strings. These are well-known distances such as the **Hamming** distance, **longest common subsequence**, among others. "
   ]
  },
  {
   "cell_type": "markdown",
   "metadata": {},
   "source": [
    "## Longest Common Subsequence (LCS) and Minimum Edit Distance\n"
   ]
  },
  {
   "cell_type": "code",
   "execution_count": 90,
   "metadata": {},
   "outputs": [
    {
     "name": "stdout",
     "output_type": "stream",
     "text": [
      "[[0 0 0 0 0 0]\n",
      " [0 2 3 4 5 0]\n",
      " [0 3 4 5 6 5]\n",
      " [0 4 5 6 7 6]\n",
      " [0 0 0 5 6 7]]\n"
     ]
    }
   ],
   "source": [
    "import numpy as np\n",
    "\n",
    "M = \"fence\"\n",
    "N = \"wicked\"\n",
    "\n",
    "m = len(M)\n",
    "n = len(N)\n",
    "\n",
    "dp = np.full((m, n), 0)\n",
    "\n",
    "# init base cases\n",
    "dp[0][0] = 0\n",
    "\n",
    "    \n",
    "ED_helper(m-1,n-1)\n",
    "print(dp)\n"
   ]
  },
  {
   "cell_type": "code",
   "execution_count": 89,
   "metadata": {},
   "outputs": [],
   "source": [
    "def ED_helper(i,j):\n",
    "    if dp[i][j] == 0:\n",
    "        \n",
    "        if i == 0:\n",
    "            return j\n",
    "        elif j == 0:\n",
    "            return i\n",
    "        elif M[i-1] == N[j-1]:\n",
    "            dp[i][j] = ED_helper(i-1, j-1)\n",
    "            \n",
    "        else:\n",
    "            dp[i][j] = 1 + np.minimum(ED_helper(i, j-1), ED_helper(i-1, j))\n",
    "        \n",
    "    return dp[i][j]"
   ]
  },
  {
   "cell_type": "code",
   "execution_count": 74,
   "metadata": {},
   "outputs": [],
   "source": []
  },
  {
   "cell_type": "code",
   "execution_count": null,
   "metadata": {},
   "outputs": [],
   "source": []
  },
  {
   "cell_type": "code",
   "execution_count": null,
   "metadata": {},
   "outputs": [],
   "source": []
  }
 ],
 "metadata": {
  "kernelspec": {
   "display_name": "Python 3",
   "language": "python",
   "name": "python3"
  },
  "language_info": {
   "codemirror_mode": {
    "name": "ipython",
    "version": 3
   },
   "file_extension": ".py",
   "mimetype": "text/x-python",
   "name": "python",
   "nbconvert_exporter": "python",
   "pygments_lexer": "ipython3",
   "version": "3.7.7"
  }
 },
 "nbformat": 4,
 "nbformat_minor": 4
}
