{
 "cells": [
  {
   "cell_type": "code",
   "execution_count": 12,
   "metadata": {},
   "outputs": [],
   "source": [
    "import numpy as np"
   ]
  },
  {
   "cell_type": "code",
   "execution_count": 84,
   "metadata": {},
   "outputs": [
    {
     "name": "stdout",
     "output_type": "stream",
     "text": [
      "[[ 0  4  4  4  4  4]\n",
      " [ 5  5  5  5  5 -1]\n",
      " [ 5  6  6  6  6  5]\n",
      " [ 5  6  7  7  7  6]\n",
      " [ 5 -1 -1  7  8  7]]\n"
     ]
    }
   ],
   "source": [
    "M = \"fence\"\n",
    "N = \"wicked\"\n",
    "\n",
    "m = len(M)\n",
    "n = len(N)\n",
    "\n",
    "dp = np.full((m, n), -1)\n",
    "\n",
    "# init base cases\n",
    "dp[0][0] = 0\n",
    "\n",
    "    \n",
    "ED_helper(m-1,n-1)\n",
    "print(dp)\n"
   ]
  },
  {
   "cell_type": "code",
   "execution_count": 76,
   "metadata": {},
   "outputs": [],
   "source": [
    "def ED_helper(i,j):\n",
    "    if dp[i][j] == -1:\n",
    "        \n",
    "        if i == 0:\n",
    "            return j\n",
    "        elif j == 0:\n",
    "            return i\n",
    "        elif M[i-1] == N[j-1]:\n",
    "            dp[i][j] = ED_helper(i-1, j-1)\n",
    "            \n",
    "        else:\n",
    "            dp[i][j] = 1 + np.minimum(ED_helper(i, j-1), ED_helper(i-1, j))\n",
    "        \n",
    "    return dp[i][j]"
   ]
  },
  {
   "cell_type": "code",
   "execution_count": 74,
   "metadata": {},
   "outputs": [],
   "source": [
    "# A Naive recursive Python program to fin minimum number \n",
    "# operations to convert str1 to str2 \n",
    "def editDistance(str1, str2, m, n): \n",
    "  \n",
    "    # If first string is empty, the only option is to \n",
    "    # insert all characters of second string into first \n",
    "    if m == 0: \n",
    "         return n \n",
    "  \n",
    "    # If second string is empty, the only option is to \n",
    "    # remove all characters of first string \n",
    "    if n == 0: \n",
    "        return m \n",
    "  \n",
    "    # If last characters of two strings are same, nothing \n",
    "    # much to do. Ignore last characters and get count for \n",
    "    # remaining strings. \n",
    "    if str1[m-1]== str2[n-1]: \n",
    "        return editDistance(str1, str2, m-1, n-1) \n",
    "  \n",
    "    # If last characters are not same, consider all three \n",
    "    # operations on last character of first string, recursively \n",
    "    # compute minimum cost for all three operations and take \n",
    "    # minimum of three values. \n",
    "    return 1 + min(editDistance(str1, str2, m, n-1),    # Insert \n",
    "                   editDistance(str1, str2, m-1, n),    # Remove \n",
    "#                    editDistance(str1, str2, m-1, n-1)    # Replace \n",
    "                   ) \n",
    "   \n",
    "# This code is contributed by Bhavya Jain "
   ]
  },
  {
   "cell_type": "code",
   "execution_count": 75,
   "metadata": {},
   "outputs": [
    {
     "name": "stdout",
     "output_type": "stream",
     "text": [
      "7\n"
     ]
    }
   ],
   "source": [
    "\n",
    "# Driver program to test the above function \n",
    "str1 = \"fence\"\n",
    "str2 = \"wicked\"\n",
    "\n",
    "print (editDistance(str1, str2, len(str1), len(str2))) "
   ]
  },
  {
   "cell_type": "code",
   "execution_count": null,
   "metadata": {},
   "outputs": [],
   "source": []
  }
 ],
 "metadata": {
  "kernelspec": {
   "display_name": "Python 3",
   "language": "python",
   "name": "python3"
  },
  "language_info": {
   "codemirror_mode": {
    "name": "ipython",
    "version": 3
   },
   "file_extension": ".py",
   "mimetype": "text/x-python",
   "name": "python",
   "nbconvert_exporter": "python",
   "pygments_lexer": "ipython3",
   "version": "3.7.7"
  }
 },
 "nbformat": 4,
 "nbformat_minor": 4
}
