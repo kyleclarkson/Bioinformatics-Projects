{
 "cells": [
  {
   "cell_type": "markdown",
   "metadata": {},
   "source": [
    "# Comparing Strings\n",
    "\n",
    "There are many ways in which one may compare two or more strings. Typical goals of such comparisions are to indicate how similar (or dissimilar) two strings are. This is typically done by defining a **metric** (or **distance**) between two words. \n",
    "\n",
    "In this notebook we consider several ways to compare strings. These are well-known distances such as the **Hamming** distance, **longest common subsequence**, among others. "
   ]
  },
  {
   "cell_type": "markdown",
   "metadata": {},
   "source": [
    "## Longest Common Subsequence (LCS)\n",
    "\n",
    "The **Longest Common Subsequence (LCS)** problem askes to determine the longest subsequence of two strings A and B.\n",
    "That is, over all subsequence of characters for A and B, what is the longest such subsequence shared between the two strings. \n",
    "Note that characters need not be consequitve (i.e. need not be a substring of characters) only that one appears before the other in both strings. \n",
    "\n",
    "We can define the length of the LCS of A and B recursively. Suppose A and B have lengths a and b respectively. Then either the last characters of both strings are equal, or they are note. \n",
    "\n",
    "If $A[a] == B[b]$ then this character will belong to the LCS. We then \"prune\" these characters and ask what is the LCS of $A[1:a-1]$ and $B[1:b-1]$.\n",
    "\n",
    "Otherwise this character will not belong the LCS. Thus we can consider prunning both characters (one at a time) and consider the LCS of thw two subproblems. As we want the longest common subsequence, we maximize over the lengths of the resulting LCS for the subproblems. \n",
    "\n",
    "The base case for this problem is when either string is empty; trivially the length of the LCS is 0. For $a,b > 0$ our recurrence relationship is:\n",
    "\n",
    "$$\n",
    "\\begin{align}\n",
    "LCS(A[1:a],B[1:b]) &=\n",
    "\\begin{cases}\n",
    "0 &\\text{if $a==0$ or $b==0$} \\\\\n",
    "1 + LCS(A[1:a-1],B[1:b-1]) &\\text{if $A[a]==B[b], a,b>0$} \\\\\n",
    "\\max \\{ LCS(A[1:n], B[1:b-1]), LCS(A[1:a-1], B[1:b])\\} &\\text{otherwise}\n",
    "\\end{cases}\n",
    "\\end{align}\n",
    "$$"
   ]
  },
  {
   "cell_type": "code",
   "execution_count": 82,
   "metadata": {},
   "outputs": [],
   "source": [
    "class LCS_Entry:\n",
    "#     __slots__ = ('value', 'lcs', 'is_null',)\n",
    "    def __init__ (self):\n",
    "        self.value = -1\n",
    "        self.lcs = \"\"\n",
    "        # Entry has not been computed. \n",
    "        self.is_null = True\n",
    "        \n",
    "    def __str__(self):\n",
    "        return str(self.value) + ':' + self.lcs\n",
    "    \n",
    "    def __repr__(self):\n",
    "        return self.__str__()\n",
    "    "
   ]
  },
  {
   "cell_type": "code",
   "execution_count": 193,
   "metadata": {},
   "outputs": [
    {
     "name": "stdout",
     "output_type": "stream",
     "text": [
      "0 0\n",
      "1 1\n",
      "1 1\n",
      "1 1\n",
      "1 1\n",
      "1 1\n",
      "1 1\n",
      "2 2\n",
      "2 2\n",
      "2 2\n",
      "2 2\n",
      "2 2\n",
      "2 2\n",
      "[[3:e 3:e 3:e 3:e 3:e]\n",
      " [3:e 3:e 3:e 3:e 3:e]\n",
      " [3:e 3:e 3:e 3:e 3:e]\n",
      " [3:e 3:e 3:e 3:e 3:e]\n",
      " [3:e 3:e 3:e 3:e 3:e]]\n"
     ]
    }
   ],
   "source": [
    "import numpy as np\n",
    "\n",
    "# Examples\n",
    "A = \"ayle\"\n",
    "B = \"lane\"\n",
    "\n",
    "a = len(A)\n",
    "b = len(B)\n",
    "\n",
    "# Create dp matrix \n",
    "dp = np.full((a+1,b+1), LCS_Entry())\n",
    "\n",
    "# result = LCS_TD_Helper(a, b, A, B)\n",
    "# print(result)\n",
    "\n",
    "result = LCS_BU(A, B)\n",
    "print(dp)"
   ]
  },
  {
   "cell_type": "code",
   "execution_count": 190,
   "metadata": {},
   "outputs": [],
   "source": [
    "# Below is a top-down (memoized) and bottom-up (DP)  implementation of the LCS recurrence relationship.\n",
    "\n",
    "def LCS_TD(i,j, A, B):\n",
    "\n",
    "    # Need to set value.\n",
    "    if dp[i][j].value == -1:\n",
    "        \n",
    "        # Base cases\n",
    "        if i == 0 or j==0:\n",
    "            dp[i][j].value = 0\n",
    "            dp[i][j].lcs = \"\"\n",
    "        \n",
    "        # Characters match, add to LCS\n",
    "        if A[i-1] == B[j-1]:\n",
    "                result = LCS_TD_Helper(i-1, j-1, A, B)\n",
    "                dp[i][j].value = 1 + result.value\n",
    "                dp[i][j].lcs = str(result.lcs) + A[i-1]\n",
    "\n",
    "        # Prune each ending character, see which results in lcs.\n",
    "        else:\n",
    "            result_1 = LCS_TD_Helper(i-1, j, A, B)\n",
    "            result_2 = LCS_TD_Helper(i, j-1, A, B)\n",
    "\n",
    "            if result_1.value >= result_2.value:\n",
    "                result = result_1\n",
    "            else:\n",
    "                result = result_2\n",
    "\n",
    "            dp[i][j].value = result.value\n",
    "            dp[i][j].lcs = str(result.lcs)\n",
    "            \n",
    "    return dp[i][j]\n",
    "\n",
    "def LCS_BU(A, B):\n",
    "    \n",
    "    # Base cases\n",
    "    for i in range(len(A)+1):\n",
    "        dp[i][0].value = 0\n",
    "        dp[i][0].lcs = \"\"\n",
    "        \n",
    "    for j in range(len(B)+1):\n",
    "        dp[0][j].value = 0\n",
    "        dp[0][j].lcs = \"\"\n",
    "    \n",
    "    # Non base cases\n",
    "    for i in range(1,len(A)+1):\n",
    "        for j in range(1,len(B)+1):\n",
    "            \n",
    "            if A[i-1] == B[j-1]:\n",
    "                dp[i][j].value = 1 + dp[i-1][j-1].value\n",
    "                dp[i][j].lcs =  str(dp[i-1][j-1].lcs) + A[i-1]\n",
    "            \n",
    "            else:\n",
    "                result_1 = dp[i-1][j]\n",
    "                result_2 = dp[i][j-1]\n",
    "                \n",
    "                if result_1.value >= result_2.value:\n",
    "                    result = result_1\n",
    "                else:\n",
    "                    result = result_2\n",
    "                \n",
    "                dp[i][j].value = result.value\n",
    "                dp[i][j].lcs = str(result.lcs)\n",
    "    \n",
    "    return dp[len(A)][len(B)]"
   ]
  },
  {
   "cell_type": "code",
   "execution_count": 138,
   "metadata": {},
   "outputs": [
    {
     "name": "stdout",
     "output_type": "stream",
     "text": [
      "[[0 0 0 0 0 0]\n",
      " [0 2 3 4 5 0]\n",
      " [0 3 4 5 6 5]\n",
      " [0 4 5 6 7 6]\n",
      " [0 0 0 5 6 7]]\n"
     ]
    }
   ],
   "source": [
    "import numpy as np\n",
    "\n",
    "M = \"fence\"\n",
    "N = \"wicked\"\n",
    "\n",
    "m = len(M)\n",
    "n = len(N)\n",
    "\n",
    "dp = np.full((m, n), 0)\n",
    "\n",
    "# init base cases\n",
    "dp[0][0] = 0\n",
    "\n",
    "    \n",
    "ED_helper(m-1,n-1)\n",
    "print(dp)\n"
   ]
  },
  {
   "cell_type": "code",
   "execution_count": 8,
   "metadata": {},
   "outputs": [],
   "source": [
    "def ED_helper(i,j):\n",
    "    if dp[i][j] == 0:\n",
    "        \n",
    "        if i == 0:\n",
    "            return j\n",
    "        elif j == 0:\n",
    "            return i\n",
    "        elif M[i-1] == N[j-1]:\n",
    "            dp[i][j] = ED_helper(i-1, j-1)\n",
    "            \n",
    "        else:\n",
    "            dp[i][j] = 1 + np.minimum(ED_helper(i, j-1), ED_helper(i-1, j))\n",
    "        \n",
    "    return dp[i][j]"
   ]
  },
  {
   "cell_type": "code",
   "execution_count": 74,
   "metadata": {},
   "outputs": [],
   "source": []
  },
  {
   "cell_type": "code",
   "execution_count": null,
   "metadata": {},
   "outputs": [],
   "source": []
  },
  {
   "cell_type": "code",
   "execution_count": null,
   "metadata": {},
   "outputs": [],
   "source": []
  }
 ],
 "metadata": {
  "kernelspec": {
   "display_name": "Python 3",
   "language": "python",
   "name": "python3"
  },
  "language_info": {
   "codemirror_mode": {
    "name": "ipython",
    "version": 3
   },
   "file_extension": ".py",
   "mimetype": "text/x-python",
   "name": "python",
   "nbconvert_exporter": "python",
   "pygments_lexer": "ipython3",
   "version": "3.7.1"
  }
 },
 "nbformat": 4,
 "nbformat_minor": 4
}
