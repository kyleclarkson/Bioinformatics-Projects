{
 "cells": [
  {
   "cell_type": "markdown",
   "metadata": {},
   "source": [
    "# Comparing Strings\n",
    "\n",
    "There are many ways in which one may compare two or more strings. Typical goals of such comparisions are to indicate how similar (or dissimilar) two strings are. This is typically done by defining a **metric** (or **distance**) between two words. \n",
    "\n",
    "In this notebook we consider several ways to compare strings. These are well-known distances such as the **Hamming** distance, **longest common subsequence**, among others. "
   ]
  },
  {
   "cell_type": "markdown",
   "metadata": {},
   "source": [
    "## Longest Common Subsequence (LCS)\n",
    "\n",
    "The **Longest Common Subsequence (LCS)** problem askes to determine the longest subsequence of two strings A and B.\n",
    "That is, over all subsequence of characters for A and B, what is the longest such subsequence shared between the two strings. \n",
    "Note that characters need not be consequitve (i.e. need not be a substring of characters) only that one appears before the other in both strings. \n",
    "\n",
    "We can define the length of the LCS of A and B recursively. Suppose A and B have lengths a and b respectively. Then either the last characters of both strings are equal, or they are note. \n",
    "\n",
    "If $A[a] == B[b]$ then this character will belong to the LCS. We then \"prune\" these characters and ask what is the LCS of $A[1:a-1]$ and $B[1:b-1]$.\n",
    "\n",
    "Otherwise this character will not belong the LCS. Thus we can consider prunning both characters (one at a time) and consider the LCS of thw two subproblems. As we want the longest common subsequence, we maximize over the lengths of the resulting LCS for the subproblems. \n",
    "\n",
    "The base case for this problem is when either string is empty; trivially the length of the LCS is 0. For $a,b > 0$ our recurrence relationship is:\n",
    "\n",
    "$$\n",
    "\\begin{align}\n",
    "LCS(A[1:a],B[1:b]) &=\n",
    "\\begin{cases}\n",
    "0 &\\text{if $a==0$ or $b==0$} \\\\\n",
    "1 + LCS(A[1:a-1],B[1:b-1]) &\\text{if $A[a]==B[b], a,b>0$} \\\\\n",
    "\\max \\{ LCS(A[1:n], B[1:b-1]), LCS(A[1:a-1], B[1:b])\\} &\\text{otherwise}\n",
    "\\end{cases}\n",
    "\\end{align}\n",
    "$$"
   ]
  },
  {
   "cell_type": "code",
   "execution_count": 2,
   "metadata": {},
   "outputs": [],
   "source": [
    "class LCS_Entry:\n",
    "#     __slots__ = ('value', 'lcs', 'is_null',)\n",
    "    def __init__ (self):\n",
    "        self.value = -1\n",
    "        self.lcs = \"\"\n",
    "        \n",
    "    def __str__(self):\n",
    "        return str(self.value) + ':' + self.lcs\n",
    "    \n",
    "    def __repr__(self):\n",
    "        return self.__str__()\n",
    "    "
   ]
  },
  {
   "cell_type": "code",
   "execution_count": 3,
   "metadata": {},
   "outputs": [],
   "source": [
    "# Below is a top-down (memoized) and bottom-up (DP)  implementation of the LCS recurrence relationship.\n",
    "\n",
    "def LCS_TD(i,j, A, B):\n",
    "\n",
    "    # Need to set value.\n",
    "    if dp[i][j].value == -1:\n",
    "        \n",
    "        # Base cases\n",
    "        if i == 0 or j == 0:\n",
    "            dp[i][j].value = 0\n",
    "            dp[i][j].lcs = \"\"\n",
    "            return dp[i][j]\n",
    "        \n",
    "        # Non base cases\n",
    "        # Characters match, add to LCS\n",
    "        if A[i-1] == B[j-1]:\n",
    "            result = LCS_TD(i-1, j-1, A, B)\n",
    "            dp[i][j].value = 1 + result.value\n",
    "            dp[i][j].lcs = str(result.lcs) + A[i-1]\n",
    "            \n",
    "        # Prune each ending character, see which results in lcs.\n",
    "        else:\n",
    "            result_1 = LCS_TD(i-1, j, A, B)\n",
    "            result_2 = LCS_TD(i, j-1, A, B)\n",
    "            if result_1.value >= result_2.value:\n",
    "                result = result_1\n",
    "            else:\n",
    "                result = result_2\n",
    "            dp[i][j].value = result.value\n",
    "            dp[i][j].lcs = str(result.lcs)\n",
    "            \n",
    "    return dp[i][j]\n",
    "\n",
    "\n",
    "def LCS_BU(A, B):\n",
    "    \n",
    "    # Base cases\n",
    "    for i in range(len(A)+1):\n",
    "        dp[i][0].value = 0\n",
    "        dp[i][0].lcs = \"\"\n",
    "    \n",
    "    for j in range(len(B)+1):\n",
    "        dp[0][j].value = 0\n",
    "        dp[0][j].lcs = \"\"\n",
    "    \n",
    "    # Non base cases\n",
    "    for i in range(1,len(A)+1):\n",
    "        for j in range(1,len(B)+1):\n",
    "            if A[i-1] == B[j-1]:\n",
    "                dp[i][j].value = 1 + dp[i-1][j-1].value\n",
    "                dp[i][j].lcs =  str(dp[i-1][j-1].lcs) + A[i-1]\n",
    "            \n",
    "            else:\n",
    "                result_1 = dp[i-1][j]\n",
    "                result_2 = dp[i][j-1]\n",
    "                result = None\n",
    "                if result_1.value >= result_2.value:\n",
    "                    result = result_1\n",
    "                else:\n",
    "                    result = result_2\n",
    "                \n",
    "                dp[i][j].value = result.value\n",
    "                dp[i][j].lcs = str(result.lcs)\n",
    "    \n",
    "    return dp[len(A)][len(B)]"
   ]
  },
  {
   "cell_type": "code",
   "execution_count": 4,
   "metadata": {},
   "outputs": [
    {
     "name": "stdout",
     "output_type": "stream",
     "text": [
      "4:suen\n",
      "4:suen\n"
     ]
    }
   ],
   "source": [
    "import numpy as np\n",
    "\n",
    "# Examples LCS\n",
    "A = \"subsequence\"\n",
    "B = \"supercan\"\n",
    "\n",
    "a = len(A)\n",
    "b = len(B)\n",
    "\n",
    "# Create dp matrix \n",
    "dp = [[LCS_Entry() for j in range(b+1)] for i in range(a+1)]\n",
    "\n",
    "result = LCS_TD(a, b, A, B)\n",
    "print(result)\n",
    "\n",
    "result = LCS_BU(A, B)\n",
    "print(result)"
   ]
  },
  {
   "cell_type": "markdown",
   "metadata": {},
   "source": [
    "## Minimum LCS Distance\n",
    "\n",
    "The **minimum LCS (min LCS) distance** between two strings A and B is the minimum number of insertion and deletion operations to conver string A to string B. The naming of such a distance comes from its relationship with the LCS of A and B. \n",
    "\n",
    "Indeed if A and B have length a and b respectively, then an upper bound on the min LCS distance is $a+b$; remove all a characters from A then insert b characters of B. However any subsequence of characters that is common to each string need not be removed. Thus when counting the number of removal and insertion operations, for each character that is common between the two need not be removed. Thus we have\n",
    "\n",
    "$$ \n",
    "min LCS distance = a + b - 2LCS(A,B)\n",
    "$$"
   ]
  },
  {
   "cell_type": "markdown",
   "metadata": {},
   "source": [
    "# Levenshtein Distance\n",
    "\n",
    " The **Levenshtein distance (lev)** of two strings A and B is the minimum number of operations to convert A to B, where the operations allowed are the insertion, deletion, or substitution of a single character.\n",
    " \n",
    "If the lengths of the string are $a$ and $b$, we can observe the following about the lev distance of A and B.  \n",
    "1) lev(A,B) = 0 if and only if the A=B.  \n",
    "2) lev(A,B) is at most $\\max\\{ a,b \\}$, as we can preform the substitution, then addition to match the longer string.  \n",
    "3) lev(A,B) is at least $|a-b|$, as we would need at least this many insertion operations to fill the \"gap\" between the two. "
   ]
  },
  {
   "cell_type": "code",
   "execution_count": 8,
   "metadata": {},
   "outputs": [],
   "source": []
  },
  {
   "cell_type": "code",
   "execution_count": 74,
   "metadata": {},
   "outputs": [],
   "source": []
  },
  {
   "cell_type": "code",
   "execution_count": null,
   "metadata": {},
   "outputs": [],
   "source": []
  },
  {
   "cell_type": "code",
   "execution_count": null,
   "metadata": {},
   "outputs": [],
   "source": []
  }
 ],
 "metadata": {
  "kernelspec": {
   "display_name": "Python 3",
   "language": "python",
   "name": "python3"
  },
  "language_info": {
   "codemirror_mode": {
    "name": "ipython",
    "version": 3
   },
   "file_extension": ".py",
   "mimetype": "text/x-python",
   "name": "python",
   "nbconvert_exporter": "python",
   "pygments_lexer": "ipython3",
   "version": "3.7.7"
  }
 },
 "nbformat": 4,
 "nbformat_minor": 4
}
