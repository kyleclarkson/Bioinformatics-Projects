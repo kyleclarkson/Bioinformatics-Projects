{
 "cells": [
  {
   "cell_type": "markdown",
   "metadata": {},
   "source": [
    "# Rosalind Problems - Bioinformatics Stronghold"
   ]
  },
  {
   "cell_type": "markdown",
   "metadata": {},
   "source": [
    "## Counting DNA Nucleotides (nt)\n",
    "\n",
    "The nucleus of any living cell consists of macromolecules called chromatin. One class of marcomolecules in the chormatin are nucleic acids. Nucleic acids are polygmers - repeating chains of small, similarly strucutred molecules called monomers (stands.)\n",
    "\n",
    "The **nucleotide (nt)** is the unit of stand length and is composed of three parts: a sugar molecule, a negatively charged phosphate ion, and a compound called a nucleobase (base.) THe sugar of one nucleotide bonds to the the phosphate of the next nucleotide in the chain, forming a sugar-phosphate backbone.\n",
    "\n",
    "Nucleotides of a specific type of nucleic acid always contains the same sugar and phosphate molecule; thus they only differ by their choice of base. Therefore a strand of nucleic acid can be differentiated from another based only on the order of its bases - this ordering defines a nucleic acid's **primary structure**. \n",
    "\n",
    "For a strand of **deoxyribose nucleic acid (DNA)**, the four necleobases are molecules called **adenine (A)**, **cytosine (C)**, **guanine (G)**, and **thymine (T)**."
   ]
  },
  {
   "cell_type": "markdown",
   "metadata": {},
   "source": [
    "### Problem: \n",
    "\n",
    "Given a string over the alphabet {A,C,G,T}, count the number of times each symbol occurs in the string."
   ]
  },
  {
   "cell_type": "code",
   "execution_count": 5,
   "metadata": {},
   "outputs": [
    {
     "name": "stdout",
     "output_type": "stream",
     "text": [
      "dict_values([247, 244, 242, 242])\n"
     ]
    }
   ],
   "source": [
    "input_string = \"ATTCGTAGGCATCGCTCCTGCCCTGTGGTTACGTTCGCACCGGGTGTCAGGTCTGAAATTATGAGAATTTTACACTCCTAATGTTGGGCGACTGAACTGATTTTGAAGTCAGGCGGTAGTATACTGAGTCAGGGTCGGAGAGTGAGAGATGTATGAGCGTGGTTTGCTCCGCTAGCCCAGGCCGGCGAGTGCTGATGCGTAGCTGTATCTACAATTCGTCAGCTTTTGGCGCAGTAATGAATATCAGAGTGCCTAAGCAGCTCTTGCCCTACGGCTAATCGAATCTTCAGATTCAAAGGGGTACACTAGCTGTTGCCAAACCGTCGGAGACGCCACCTCACGAACTCACATCATATCAGTCGAAGATGGTACGTTAGAGCCCATGTGCCTATGGAGGCATGGTATATAGCCTGGCTGCGGTGTAATGAAGTCACCTGGCCAACCTGGGGCACTTGTCTCGTGACATAGTCTTATAGGGGTGCCGCAAGAAGGTCCCACCAAAAATCACGGATACGCGTTCGCCCGAAGGCCCTTGGAAACCTTCCAGCTCAAACTTGAGAGATACGTAGTTTTCCCACCCGTCACAAGAGGTGAGATTACAACAAAGTATGTCTGCTCGTCCCTGTTAGCTATAGCAGCTCGTATAACAACATTTCCCGACTGCGCGTCGCTGATCGAACAATAGGCTAGAGTTACAGAGCCTATCACAGGCCGAAGAGGACAAGCTTCGCTGGTACCTATAAAGGGAAAACCCCAGATTAATCCCGCCTTATCGTCCTAAGTAGTCGCGGTCAATATGGTACTATCCGACACCCTTTGATTGTGAGTCTTCACTTACCTATTCCGGATTTCCTCTCCCAGTAGGTTATAGTTCATGACGTCTTTTAGCACGGGATCACACGTGGCATGGATTAAATAGGATACACCTGGTGCCATGCAAAGTCCACGCTTAAGCCGAAGAACCCCGTAAAGCAC\"\n",
    "\n",
    "# Create dictonary for each character, scan through string, counting occurences.\n",
    "dict = {'A':0, 'C':0, 'G':0, 'T':0}\n",
    "\n",
    "for char in input_string:\n",
    "    count = dict[char]\n",
    "    dict[char] = count + 1\n",
    "    \n",
    "print(dict.values())"
   ]
  },
  {
   "cell_type": "markdown",
   "metadata": {},
   "source": [
    "## The Second Nucleic Acid (RNA)\n",
    "\n",
    "Along side DNA in the chromatin a molecule with a different sugar can ribose known as **ribose nucleic acid (RNA)**. RNA differs from DNA as in it contains a base called **uracil** instread of thymine. \n",
    "\n",
    "The primary structure of DNA and RNA is similar because DNA serves as the blueprint for the creation of special kinds of RNA molecule called **messenger RNA (mRNA)**. mRNA is created during RNA transcription, during which a strand of DNA is used as a template for constrcuting a strand of RNA by compy nucleotides one at a time, where uracil is used in place of thymine."
   ]
  },
  {
   "cell_type": "markdown",
   "metadata": {},
   "source": [
    "### Problem: \n",
    "\n",
    "Given a DNA string t, convert t to RNA by replacing all thymine (T) with uracil (U)."
   ]
  },
  {
   "cell_type": "code",
   "execution_count": 6,
   "metadata": {},
   "outputs": [
    {
     "name": "stdout",
     "output_type": "stream",
     "text": [
      "AAAACGUUGCCCUCCUCCCAGGUUCUGGUAAACGUGCACAGCGUCCCCUGCCUUUCAUAUCGUACUUCUAGGCCCUCGUAAGGAGUCCGGUAUGUAAUAUCGAUCACGAUCGCCUAUGAGGUGCGGGAAUUGCCAAAUCACUGGCCUAGUUGACUCAGUCACCCUCUUUUGCAAGGCCUUUAGCGAGGAAACCUGCACCGCCGAGGUACGCAAUUGCUACAUGCUACCCAAGAAGGGCAUUCAGCACGCGAGAGCGAUACUGUACUCGAGCACCACCAUCACGAUAGAAAGGAUGGUUGUAUUCACACGCGGUUAGGUGGAACCUUGAUAAAUGUGCGCGGAUGCGAAUGUGCCAAGUUGCCUGCUCUUUCUUAAGGUUCCGGUCUGACGGGAACACAAGGCGAGUAAGAGGGUCUUAGCAAGGGGUGCGCCUUAGCGACUACUAUUAGCUUGCACACAAACAAGCGAGUAGUAUGGCCUCGCUCGUGUUCAGCUCGGUUUGCGCGUGACCAUUGCAUUUUUUAAAUUGAAAAACCAGUGGUGCUGCUCACUAGCAUUAUCCGUUUGCUAGCCCUUCCAAUGUAACAAUGCAGUUGGGCUGAAGAGAGACCAGUACGCCCAGCUAUUCUAGAAUCCACCUCUGGAAGAACAACUGAGUAUUCUCGAAGUUUACCAGCAUCCCUCAGUAAAAUUUCAACUAUGAUGUUGUCAUCCAAUUGCUCCCGAGAAAAUUCGACGUGUAGCCCGAUGAAAGGUAAGUCGAGUGGGAUACCUCUAAUGAUAGUGCAGAGAAUGGCCCGUAGCCUCGGCACUAGAGCCCGUUGCCACUAAGAGCCAAGAAAAGCCCUCGUGAGCAGAGCCUCCGUGCAGUCUCUCUGGCCGGCAAUGCAAGGACAGGCUGGUUGC\n"
     ]
    }
   ],
   "source": [
    "t = \"AAAACGTTGCCCTCCTCCCAGGTTCTGGTAAACGTGCACAGCGTCCCCTGCCTTTCATATCGTACTTCTAGGCCCTCGTAAGGAGTCCGGTATGTAATATCGATCACGATCGCCTATGAGGTGCGGGAATTGCCAAATCACTGGCCTAGTTGACTCAGTCACCCTCTTTTGCAAGGCCTTTAGCGAGGAAACCTGCACCGCCGAGGTACGCAATTGCTACATGCTACCCAAGAAGGGCATTCAGCACGCGAGAGCGATACTGTACTCGAGCACCACCATCACGATAGAAAGGATGGTTGTATTCACACGCGGTTAGGTGGAACCTTGATAAATGTGCGCGGATGCGAATGTGCCAAGTTGCCTGCTCTTTCTTAAGGTTCCGGTCTGACGGGAACACAAGGCGAGTAAGAGGGTCTTAGCAAGGGGTGCGCCTTAGCGACTACTATTAGCTTGCACACAAACAAGCGAGTAGTATGGCCTCGCTCGTGTTCAGCTCGGTTTGCGCGTGACCATTGCATTTTTTAAATTGAAAAACCAGTGGTGCTGCTCACTAGCATTATCCGTTTGCTAGCCCTTCCAATGTAACAATGCAGTTGGGCTGAAGAGAGACCAGTACGCCCAGCTATTCTAGAATCCACCTCTGGAAGAACAACTGAGTATTCTCGAAGTTTACCAGCATCCCTCAGTAAAATTTCAACTATGATGTTGTCATCCAATTGCTCCCGAGAAAATTCGACGTGTAGCCCGATGAAAGGTAAGTCGAGTGGGATACCTCTAATGATAGTGCAGAGAATGGCCCGTAGCCTCGGCACTAGAGCCCGTTGCCACTAAGAGCCAAGAAAAGCCCTCGTGAGCAGAGCCTCCGTGCAGTCTCTCTGGCCGGCAATGCAAGGACAGGCTGGTTGC\"\n",
    "print(t.replace('T', 'U'))"
   ]
  },
  {
   "cell_type": "markdown",
   "metadata": {},
   "source": [
    "## The Secondary and Tertiary Structures of DNA\n",
    "\n",
    "The primary structure of a nucleic acid is determined by the ordering of its bases, yet it does not describe the large, 3D shape of the molecule. In 1953, the following structure for DNA was proposed:\n",
    "\n",
    "1) DNA is composed of two strings, running in opposite directions. \n",
    "\n",
    "2) Each base bonds to a base in the opposite strand: A-T, C-G (always)\n",
    "\n",
    "3) The two strands are twisted together into a long spiral double helix. \n",
    "\n",
    "\n",
    "1) and 2) compose the **secondary structure** of DNA. 3) Describes the **tertiary structure**.\n",
    "\n",
    "Note that the **complement** of a base is the base in which it bonds to. The bonding of two complementary bases is called a **base pair (bp)**. Thus the length of a DNA molecule is commonly given in bp rather than nt; we can determine the other strand by taking the complement of the first (running in opposite direction.)\n",
    "\n",
    "Example:\n",
    "\n",
    "'AAAACCCGGT' <-> 'ACCGGGTTTT'\n"
   ]
  },
  {
   "cell_type": "code",
   "execution_count": 25,
   "metadata": {},
   "outputs": [
    {
     "name": "stdout",
     "output_type": "stream",
     "text": [
      "TATAAACCGTGGGAAACGTCGATCCGCAACGACGAAAACTTTAGAAGGATCCTTATCTAATAGTGGTCCACGTTCCCCCTGTGCATTAACATAAAAAGAACCCTGACGTGATCCTCTAAACCTGGTACTACATTTTCACAGCTGGTTACACCGAGTGCTTAGCTTACGTCAGTACACGGATGAAAGGCACTGTCCTATACCTATCTTGAGTAGAGGGCAAGAATGGAAATTATACTCCGTTAGCTAAGGTATCTCTATAAGACATTAGGTTGTACCAAAAATGCAGCATTCAGGCGGGGTGCAGGGCTTGCCGGGGAACTGCTCGGATGGCTTGTAAGACAACACCCGCTCGAAGGTTCATGCAAACCTTACAATAACCGGAGACTCAGCTCGAAGAATTGCCCAATTTCGCCCCCTACCGCTGATTTGCGGCGATATGGGCCCTTCATATAATACAGAGTCTGCGCTACGAGACCTCAGTAGCCATCCCTAAATCGGTGGAGCGGCTTCTGACATTGGATCTCGAGCACTCTAGTCGACCGTTACTTTCAGAGCAATGCCTAAAAATGTCAAGCGCCGATGCGAAAGGATCCCATACACTGTAGTGAGTAGGTATGGACCTGGACGATACTAACGCTAGGCAGTCCCCTCAAGGGGCGCACCAGATCGCGTTGTCGTGAAGCGGCTAAGGGTTCCCCAGCCTTTACGAGACACAAAATGGCTGCCTAGAGTCATGTGGCCCGTTCTCTATCCCCAACTATCGTGTAAGATCGAGGAAAGTTGGGGTACGGCGGCGCCTCCTACGTGGGCGCCTCGTAACGATAGAGCCCCTGTCTGGAGTT\n"
     ]
    }
   ],
   "source": [
    "s = \"AACTCCAGACAGGGGCTCTATCGTTACGAGGCGCCCACGTAGGAGGCGCCGCCGTACCCCAACTTTCCTCGATCTTACACGATAGTTGGGGATAGAGAACGGGCCACATGACTCTAGGCAGCCATTTTGTGTCTCGTAAAGGCTGGGGAACCCTTAGCCGCTTCACGACAACGCGATCTGGTGCGCCCCTTGAGGGGACTGCCTAGCGTTAGTATCGTCCAGGTCCATACCTACTCACTACAGTGTATGGGATCCTTTCGCATCGGCGCTTGACATTTTTAGGCATTGCTCTGAAAGTAACGGTCGACTAGAGTGCTCGAGATCCAATGTCAGAAGCCGCTCCACCGATTTAGGGATGGCTACTGAGGTCTCGTAGCGCAGACTCTGTATTATATGAAGGGCCCATATCGCCGCAAATCAGCGGTAGGGGGCGAAATTGGGCAATTCTTCGAGCTGAGTCTCCGGTTATTGTAAGGTTTGCATGAACCTTCGAGCGGGTGTTGTCTTACAAGCCATCCGAGCAGTTCCCCGGCAAGCCCTGCACCCCGCCTGAATGCTGCATTTTTGGTACAACCTAATGTCTTATAGAGATACCTTAGCTAACGGAGTATAATTTCCATTCTTGCCCTCTACTCAAGATAGGTATAGGACAGTGCCTTTCATCCGTGTACTGACGTAAGCTAAGCACTCGGTGTAACCAGCTGTGAAAATGTAGTACCAGGTTTAGAGGATCACGTCAGGGTTCTTTTTATGTTAATGCACAGGGGGAACGTGGACCACTATTAGATAAGGATCCTTCTAAAGTTTTCGTCGTTGCGGATCGACGTTTCCCACGGTTTATA\"\n",
    "s_c = \"\" # complement of s. \n",
    "\n",
    "for char in s:\n",
    "    if char == 'A':\n",
    "        s_c += 'T'\n",
    "    elif char == 'T':\n",
    "        s_c += 'A'\n",
    "    elif char == 'C':\n",
    "        s_c += 'G'\n",
    "    elif char == 'G':\n",
    "        s_c += 'C'\n",
    "        \n",
    "print(s_c[::-1])"
   ]
  },
  {
   "cell_type": "markdown",
   "metadata": {},
   "source": [
    "## Rabbits and Recurrences\n",
    "\n",
    "We begin with a pair of rabbits - one male and one female. Each month such a pair mates, and one month later k pairs are produced (one male, one female.)\n",
    "After a month of being born, rabbits reach reproductive age. Rabbits never stop reporducing or dying. \n",
    "\n",
    "Given n months and value k, what is the the total number of rabbit pairs after n months?\n",
    "\n",
    "e.g. n=5, k=3 -> 19 pairs. "
   ]
  },
  {
   "cell_type": "markdown",
   "metadata": {},
   "source": [
    "#### Recurrence relationship:\n",
    "\n",
    "Month m=0, there is one pair of mating age, 0 new born. Total: 1\n",
    "Month m=1, there is one pair of mating age, k pairs of new borns. Total: k+1\n",
    "Month m=2, there are k+1 pairs of mating age, k pairs of new borns: Total: 2k+1\n",
    "\n",
    "In general, for the ith month suppose there are x,y pairs of mating age, new born respectively. Then for month i+1, we have\n",
    "x+y,k(x) respectvely. \n",
    "\n",
    "Let $F_i$ denote the number of pairs of rabbits on the $i^{th}$ month. Then for $i=0, i=1$, we have $F_0=1$, $F_1=k+1$, and $F_i = F_{i-1} + kF_{i-2}$ for $i \\geq 2$."
   ]
  },
  {
   "cell_type": "code",
   "execution_count": 2,
   "metadata": {},
   "outputs": [],
   "source": [
    "def recurrence(m,k):\n",
    "    if m == 0:\n",
    "        return 0\n",
    "    elif m == 1:\n",
    "        return 1\n",
    "    else:\n",
    "        return recurrence(m-1, k) + k * recurrence(m-2, k) \n",
    "# See a bottom up solution."
   ]
  },
  {
   "cell_type": "code",
   "execution_count": 4,
   "metadata": {},
   "outputs": [
    {
     "name": "stdout",
     "output_type": "stream",
     "text": [
      "3048504677680\n"
     ]
    }
   ],
   "source": [
    "m = 36\n",
    "k = 3\n",
    "print(recurrence(m, k))"
   ]
  },
  {
   "cell_type": "markdown",
   "metadata": {},
   "source": [
    "## GC-Content\n",
    "\n",
    "99.9% of the 3.2 billion base pairs in a human genome are common to almost all other humans (barring those with mahor genetic defects.) For any species, the average case genome is very similar.\n",
    "\n",
    "For DNA, this means that the frequencey of bases will be similar for memebers of the same species. \n",
    "\n",
    "For a molecule of DNA that is from an unknown species, we can analysis the frequencies of bases in the molecule and compare them to a database of DNA to attempt to determine the species. \n",
    "\n",
    "Because of the base pairing relations of the two DNA strands, cytosine and guanine will always appear in equal amounts in a double-stranded DNA molecule - this we analysis its **GC-Content**. The GC-content of a DNA string is the percentage of symbols in the string that are either 'C' or 'G'.\n",
    "\n"
   ]
  },
  {
   "cell_type": "markdown",
   "metadata": {},
   "source": [
    "### FASTA format\n",
    "\n",
    "The FASTA format is a means to label strings (DNA) In this format, we introduce the label of the string using a '>' followed by the label. Then the next line is the string itself. For example,\n",
    "\n",
    "\\>Rosalind_6404\n",
    "CCTGCGGAAGATCGGCACTAGAATAGCCAGAACCGTTTCTCTGAGGCTTCCGGCCTTCCCTCCCACTAATAATTCTGAGG\n",
    "\n",
    "\\>Rosalind_5959\n",
    "CCATCGGTAGCGCATCCTTAGTCCAATTAAGTCCCTATCCAGGCGCTCCGCCGAAGGTCTATATCCATTTGTCAGCAGACACGC\n",
    "\n",
    "\\>Rosalind_0808CCACCCTCGTGGTATGGCTAGGCATTCAGGAACCGGAGAACGCTTCAGACCAGCCCGGAC\n",
    "TGGGAACCTGCGGGCAGTAGGTGGAAT\n",
    "\n"
   ]
  },
  {
   "cell_type": "markdown",
   "metadata": {},
   "source": [
    "### Problem:\n",
    "\n",
    "Give a list of FASTA formatted DNA, compute the string with largest GC-content."
   ]
  },
  {
   "cell_type": "code",
   "execution_count": null,
   "metadata": {},
   "outputs": [],
   "source": []
  },
  {
   "cell_type": "code",
   "execution_count": 31,
   "metadata": {},
   "outputs": [
    {
     "name": "stdout",
     "output_type": "stream",
     "text": [
      "['Rosalind_6489', 0.5282583621683967]\n"
     ]
    }
   ],
   "source": [
    "# Get input from file, store content in list of pairs: label, string\n",
    "file = open('question_inputs/computeGC.txt', 'r')\n",
    "\n",
    "# preprocessing\n",
    "dna_list = file.read().replace('\\n', '').split('>')\n",
    "dna_list.pop(0)\n",
    "\n",
    "# For each pair, compute GC-content of string, store label and freq.\n",
    "largest_pair = [None, -1.0]\n",
    "\n",
    "i = 0\n",
    "while (i < len(dna_list)):\n",
    "    label = dna_list[i]\n",
    "    seq = dna_list[i+1]\n",
    "    # Compute GC-content\n",
    "    count = 0\n",
    "    for char in seq:\n",
    "        if char == 'G' or char == 'C':\n",
    "            count += 1\n",
    "    if largest_pair[1] < count/len(seq):\n",
    "        largest_pair = [label, count/len(seq)]\n",
    "    \n",
    "    i += 2\n",
    "    \n",
    "print(largest_pair)"
   ]
  },
  {
   "cell_type": "code",
   "execution_count": null,
   "metadata": {},
   "outputs": [],
   "source": []
  },
  {
   "cell_type": "code",
   "execution_count": null,
   "metadata": {},
   "outputs": [],
   "source": []
  }
 ],
 "metadata": {
  "kernelspec": {
   "display_name": "Python 3",
   "language": "python",
   "name": "python3"
  },
  "language_info": {
   "codemirror_mode": {
    "name": "ipython",
    "version": 3
   },
   "file_extension": ".py",
   "mimetype": "text/x-python",
   "name": "python",
   "nbconvert_exporter": "python",
   "pygments_lexer": "ipython3",
   "version": "3.7.1"
  }
 },
 "nbformat": 4,
 "nbformat_minor": 4
}
